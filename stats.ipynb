{
  "cells": [
    {
      "cell_type": "markdown",
      "source": [
        "I. What is statistics and why is it important?\n",
        "Statistics is the science of collecting, analyzing, interpreting, and presenting data. It helps us make data-driven decisions in fields like business, healthcare, social sciences, and engineering.\n",
        "\n",
        "II. What are the two main types of statistics?\n",
        "\n",
        "Descriptive statistics – Summarize and describe data features.\n",
        "\n",
        "Inferential statistics – Make predictions or generalizations about a population based on a sample.\n",
        "\n",
        "III. What are descriptive statistics?\n",
        "These include methods to summarize raw data such as mean, median, mode, variance, and graphs like histograms.\n",
        "\n",
        "IV. What is inferential statistics?\n",
        "It refers to using data from a sample to make estimates or test hypotheses about a population.\n",
        "\n",
        "V. What is sampling in statistics?\n",
        "Sampling is the process of selecting a subset from a population to represent the whole group.\n",
        "\n",
        "VI. What are the different types of sampling methods?\n",
        "\n",
        "Probability sampling: Simple random, stratified, systematic, cluster.\n",
        "\n",
        "Non-probability sampling: Convenience, judgmental, quota, snowball.\n",
        "\n",
        "VII. What is the difference between random and non-random sampling?\n",
        "Random sampling gives every unit an equal chance of selection. Non-random sampling doesn’t, and is subject to selection bias.\n",
        "\n",
        "VIII. Define and give examples of qualitative and quantitative data.\n",
        "\n",
        "Qualitative: Categorical data like color, gender.\n",
        "\n",
        "Quantitative: Numeric data like age, income.\n",
        "\n",
        "IX. What are the different types of data in statistics?\n",
        "Categorical (nominal, ordinal) and numerical (interval, ratio); also primary vs secondary; cross-sectional vs time-series.\n",
        "\n",
        "X. Explain nominal, ordinal, interval, and ratio levels of measurement.\n",
        "\n",
        "Nominal: Categories with no order (e.g., blood type).\n",
        "\n",
        "Ordinal: Ordered categories (e.g., satisfaction levels).\n",
        "\n",
        "Interval: Equal differences, no true zero (e.g., temperature).\n",
        "\n",
        "Ratio: Equal differences with a true zero (e.g., height, weight).\n",
        "\n",
        "XI. What is the measure of central tendency?\n",
        "A single value representing the center of a dataset — includes mean, median, and mode.\n",
        "\n",
        "XII. Define mean, median, and mode.\n",
        "\n",
        "Mean: Average.\n",
        "\n",
        "Median: Middle value.\n",
        "\n",
        "Mode: Most frequent value.\n",
        "\n",
        "XIII. What is the significance of the measure of central tendency?\n",
        "It helps summarize large data into a single representative value.\n",
        "\n",
        "XIV. What is variance, and how is it calculated?\n",
        "Variance measures data spread using squared deviations from the mean.\n",
        "Formula:\n",
        "**bold text**\n",
        "XV. What is standard deviation, and why is it important?\n",
        "It’s the square root of variance, representing spread in original units — easier to interpret and widely used in statistics.\n",
        "\n",
        "XVI. Define and explain the term range in statistics.\n",
        "Range = Max − Min. It’s the simplest measure of data spread.\n",
        "\n",
        "XVII. What is the difference between variance and standard deviation?\n",
        "Variance is in squared units; standard deviation is its square root and in original units, making it more interpretable.\n",
        "\n",
        "XVIII. What is skewness in a dataset?\n",
        "Skewness measures the asymmetry of data distribution.\n",
        "\n",
        "XIX. What does it mean if a dataset is positively or negatively skewed?\n",
        "\n",
        "Positive skew: Tail on right; mean > median.\n",
        "\n",
        "Negative skew: Tail on left; mean < median.\n",
        "\n",
        "XX. Define and explain kurtosis.\n",
        "Kurtosis measures the “tailedness” of a distribution — high kurtosis = heavy tails; low kurtosis = light tails.\n",
        "\n",
        "XXI. What is the purpose of covariance?\n",
        "It indicates whether two variables change together (positive, negative, or no relationship).\n",
        "\n",
        "XXII. What does correlation measure in statistics?\n",
        "It quantifies the strength and direction of the linear relationship between variables.\n",
        "\n",
        "XXIII. What is the difference between covariance and correlation?\n",
        "Covariance is unscaled and unit-dependent; correlation is normalized and unit-less (−1 to +1 range).\n",
        "\n",
        "XXIV. What are some real-world applications of statistics?\n",
        "Healthcare studies, business forecasting, election polls, quality control, marketing research, sports analytics, and machine learning."
      ],
      "metadata": {
        "id": "kTxiqbgLhLph"
      },
      "id": "kTxiqbgLhLph"
    },
    {
      "cell_type": "markdown",
      "id": "3fed9ee7",
      "metadata": {
        "id": "3fed9ee7"
      },
      "source": [
        "# Statistics Practical Notebook\n"
      ]
    },
    {
      "cell_type": "markdown",
      "id": "c46e3702",
      "metadata": {
        "id": "c46e3702"
      },
      "source": [
        "## I. Calculate Mean, Median, Mode"
      ]
    },
    {
      "cell_type": "code",
      "execution_count": 1,
      "id": "22a1b708",
      "metadata": {
        "colab": {
          "base_uri": "https://localhost:8080/"
        },
        "id": "22a1b708",
        "outputId": "97376821-d6f8-4c40-88e1-b89ff9225ade"
      },
      "outputs": [
        {
          "output_type": "stream",
          "name": "stdout",
          "text": [
            "Data: [12, 15, 20, 20, 22, 25, 30]\n",
            "Mean: 20.571428571428573\n",
            "Median: 20\n",
            "Mode: 20\n"
          ]
        }
      ],
      "source": [
        "import statistics as stats\n",
        "\n",
        "data = [12, 15, 20, 20, 22, 25, 30]\n",
        "\n",
        "mean_val = sum(data) / len(data)\n",
        "median_val = stats.median(data)\n",
        "mode_val = stats.mode(data)\n",
        "\n",
        "print(\"Data:\", data)\n",
        "print(\"Mean:\", mean_val)\n",
        "print(\"Median:\", median_val)\n",
        "print(\"Mode:\", mode_val)"
      ]
    },
    {
      "cell_type": "markdown",
      "id": "869e3e96",
      "metadata": {
        "id": "869e3e96"
      },
      "source": [
        "## II. Variance and Standard Deviation"
      ]
    },
    {
      "cell_type": "code",
      "execution_count": 2,
      "id": "13b662b5",
      "metadata": {
        "colab": {
          "base_uri": "https://localhost:8080/"
        },
        "id": "13b662b5",
        "outputId": "86026906-fd6f-44fd-c831-b7e1272cdfc0"
      },
      "outputs": [
        {
          "output_type": "stream",
          "name": "stdout",
          "text": [
            "Variance: 35.95238095238095\n",
            "Standard Deviation: 5.996030432909839\n"
          ]
        }
      ],
      "source": [
        "import numpy as np\n",
        "\n",
        "data = np.array([12, 15, 20, 20, 22, 25, 30])\n",
        "\n",
        "variance = np.var(data, ddof=1)\n",
        "std_dev = np.std(data, ddof=1)\n",
        "\n",
        "print(\"Variance:\", variance)\n",
        "print(\"Standard Deviation:\", std_dev)"
      ]
    },
    {
      "cell_type": "markdown",
      "id": "ca7d87d1",
      "metadata": {
        "id": "ca7d87d1"
      },
      "source": [
        "## III. Classify Dataset Levels"
      ]
    },
    {
      "cell_type": "code",
      "execution_count": 3,
      "id": "3acffb23",
      "metadata": {
        "colab": {
          "base_uri": "https://localhost:8080/"
        },
        "id": "3acffb23",
        "outputId": "4b5f9645-3d84-4550-e83e-aa086c5cb8a2"
      },
      "outputs": [
        {
          "output_type": "stream",
          "name": "stdout",
          "text": [
            "Nominal data: ['Red', 'Blue', 'Green']\n",
            "Ordinal data: ['Low', 'Medium', 'High']\n",
            "Interval data: [10, 20, 30]\n",
            "Ratio data: [1.5, 2.0, 3.5]\n"
          ]
        }
      ],
      "source": [
        "dataset = {\n",
        "    'Nominal': ['Red', 'Blue', 'Green'],\n",
        "    'Ordinal': ['Low', 'Medium', 'High'],\n",
        "    'Interval': [10, 20, 30],\n",
        "    'Ratio': [1.5, 2.0, 3.5]\n",
        "}\n",
        "\n",
        "for level, values in dataset.items():\n",
        "    print(f\"{level} data:\", values)"
      ]
    },
    {
      "cell_type": "markdown",
      "id": "cf854404",
      "metadata": {
        "id": "cf854404"
      },
      "source": [
        "## IV. Random vs Stratified Sampling"
      ]
    },
    {
      "cell_type": "code",
      "execution_count": 4,
      "id": "9fb56d25",
      "metadata": {
        "colab": {
          "base_uri": "https://localhost:8080/"
        },
        "id": "9fb56d25",
        "outputId": "47f7c84b-9552-4bb1-b981-8260abe54eb6"
      },
      "outputs": [
        {
          "output_type": "stream",
          "name": "stdout",
          "text": [
            "Simple Random Sample (10 rows):\n",
            "     id group\n",
            "80  81     C\n",
            "84  85     B\n",
            "33  34     A\n",
            "81  82     D\n",
            "93  94     C\n",
            "17  18     A\n",
            "36  37     C\n",
            "82  83     A\n",
            "69  70     A\n",
            "65  66     A\n",
            "\n",
            "Stratified Sample (2 from each group):\n",
            "     id group\n",
            "58  59     A\n",
            "55  56     A\n",
            "52  53     B\n",
            "78  79     B\n",
            "20  21     C\n",
            "89  90     C\n",
            "88  89     D\n",
            "6    7     D\n"
          ]
        },
        {
          "output_type": "stream",
          "name": "stderr",
          "text": [
            "/tmp/ipython-input-4-130927338.py:14: DeprecationWarning: DataFrameGroupBy.apply operated on the grouping columns. This behavior is deprecated, and in a future version of pandas the grouping columns will be excluded from the operation. Either pass `include_groups=False` to exclude the groupings or explicitly select the grouping columns after groupby to silence this warning.\n",
            "  stratified = df.groupby('group', group_keys=False).apply(lambda x: x.sample(2, random_state=1))\n"
          ]
        }
      ],
      "source": [
        "import pandas as pd\n",
        "import numpy as np\n",
        "\n",
        "np.random.seed(0)\n",
        "df = pd.DataFrame({\n",
        "    'id': range(1, 101),\n",
        "    'group': np.random.choice(['A', 'B', 'C', 'D'], size=100)\n",
        "})\n",
        "\n",
        "# Simple random sample of 10\n",
        "srs = df.sample(n=10, random_state=1)\n",
        "\n",
        "# Stratified sample: 2 from each group\n",
        "stratified = df.groupby('group', group_keys=False).apply(lambda x: x.sample(2, random_state=1))\n",
        "\n",
        "print(\"Simple Random Sample (10 rows):\\n\", srs)\n",
        "print(\"\\nStratified Sample (2 from each group):\\n\", stratified)"
      ]
    },
    {
      "cell_type": "markdown",
      "id": "0c4b8f99",
      "metadata": {
        "id": "0c4b8f99"
      },
      "source": [
        "## V. Range of a Dataset"
      ]
    },
    {
      "cell_type": "code",
      "execution_count": 5,
      "id": "93a381ff",
      "metadata": {
        "colab": {
          "base_uri": "https://localhost:8080/"
        },
        "id": "93a381ff",
        "outputId": "447ce459-f7dd-43b7-c6fc-1d921c180116"
      },
      "outputs": [
        {
          "output_type": "stream",
          "name": "stdout",
          "text": [
            "Range: 38\n"
          ]
        }
      ],
      "source": [
        "def data_range(data):\n",
        "    return max(data) - min(data)\n",
        "\n",
        "sample = [4, 8, 15, 16, 23, 42]\n",
        "print(\"Range:\", data_range(sample))"
      ]
    },
    {
      "cell_type": "markdown",
      "id": "8ecb2d70",
      "metadata": {
        "id": "8ecb2d70"
      },
      "source": [
        "## VI. Histogram for Skewness"
      ]
    },
    {
      "cell_type": "code",
      "execution_count": 6,
      "id": "01b7e7ed",
      "metadata": {
        "colab": {
          "base_uri": "https://localhost:8080/",
          "height": 472
        },
        "id": "01b7e7ed",
        "outputId": "2081f30d-b611-49fc-90ed-e4a5fb9a6e26"
      },
      "outputs": [
        {
          "output_type": "display_data",
          "data": {
            "text/plain": [
              "<Figure size 640x480 with 1 Axes>"
            ],
            "image/png": "[encoded data removed]"
          },
          "metadata": {}
        }
      ],
      "source": [
        "import numpy as np\n",
        "import matplotlib.pyplot as plt\n",
        "\n",
        "data = np.random.lognormal(mean=1, sigma=0.5, size=1000)\n",
        "\n",
        "plt.hist(data, bins=30)\n",
        "plt.title(\"Histogram to Visualize Skewness\")\n",
        "plt.xlabel(\"Value\")\n",
        "plt.ylabel(\"Frequency\")\n",
        "plt.show()"
      ]
    },
    {
      "cell_type": "markdown",
      "id": "610b9e24",
      "metadata": {
        "id": "610b9e24"
      },
      "source": [
        "## VII. Skewness & Kurtosis"
      ]
    },
    {
      "cell_type": "code",
      "execution_count": 7,
      "id": "44ea5f23",
      "metadata": {
        "colab": {
          "base_uri": "https://localhost:8080/"
        },
        "id": "44ea5f23",
        "outputId": "df5a4f40-0028-4ba8-e1f1-0161e32e2d2e"
      },
      "outputs": [
        {
          "output_type": "stream",
          "name": "stdout",
          "text": [
            "Skewness: 1.572226148374585\n",
            "Kurtosis: 3.906938850173815\n"
          ]
        }
      ],
      "source": [
        "import numpy as np\n",
        "from scipy.stats import skew, kurtosis\n",
        "\n",
        "data = np.random.lognormal(mean=1, sigma=0.5, size=1000)\n",
        "\n",
        "print(\"Skewness:\", skew(data))\n",
        "print(\"Kurtosis:\", kurtosis(data))"
      ]
    },
    {
      "cell_type": "markdown",
      "id": "67383040",
      "metadata": {
        "id": "67383040"
      },
      "source": [
        "## VIII. Positive vs Negative Skewness"
      ]
    },
    {
      "cell_type": "code",
      "execution_count": 8,
      "id": "6dd4ed43",
      "metadata": {
        "colab": {
          "base_uri": "https://localhost:8080/",
          "height": 391
        },
        "id": "6dd4ed43",
        "outputId": "fb453e53-339e-4558-a2af-84fb00cc3dbb"
      },
      "outputs": [
        {
          "output_type": "display_data",
          "data": {
            "text/plain": [
              "<Figure size 1000x400 with 2 Axes>"
            ],
            "image/png": "[encoded data removed]"
          },
          "metadata": {}
        }
      ],
      "source": [
        "import numpy as np\n",
        "import matplotlib.pyplot as plt\n",
        "\n",
        "pos_skew = np.random.exponential(scale=1, size=1000)\n",
        "neg_skew = -np.random.exponential(scale=1, size=1000) + 5\n",
        "\n",
        "fig, ax = plt.subplots(1, 2, figsize=(10, 4))\n",
        "ax[0].hist(pos_skew, bins=30)\n",
        "ax[0].set_title(\"Positively Skewed\")\n",
        "\n",
        "ax[1].hist(neg_skew, bins=30)\n",
        "ax[1].set_title(\"Negatively Skewed\")\n",
        "plt.show()"
      ]
    },
    {
      "cell_type": "markdown",
      "id": "950565a2",
      "metadata": {
        "id": "950565a2"
      },
      "source": [
        "## IX. Covariance Between Two Datasets"
      ]
    },
    {
      "cell_type": "code",
      "execution_count": 9,
      "id": "4a9e5e4c",
      "metadata": {
        "colab": {
          "base_uri": "https://localhost:8080/"
        },
        "id": "4a9e5e4c",
        "outputId": "a78afa24-fd92-477a-ea76-2cfd0d726414"
      },
      "outputs": [
        {
          "output_type": "stream",
          "name": "stdout",
          "text": [
            "Covariance Matrix:\n",
            " [[1.20730558 2.39337143]\n",
            " [2.39337143 5.71742834]]\n"
          ]
        }
      ],
      "source": [
        "import numpy as np\n",
        "\n",
        "x = np.random.normal(0, 1, 100)\n",
        "y = 2 * x + np.random.normal(0, 1, 100)\n",
        "\n",
        "cov_matrix = np.cov(x, y, ddof=1)\n",
        "print(\"Covariance Matrix:\\n\", cov_matrix)"
      ]
    },
    {
      "cell_type": "markdown",
      "id": "69569058",
      "metadata": {
        "id": "69569058"
      },
      "source": [
        "## X. Correlation Coefficient"
      ]
    },
    {
      "cell_type": "code",
      "execution_count": 10,
      "id": "dab13058",
      "metadata": {
        "colab": {
          "base_uri": "https://localhost:8080/"
        },
        "id": "dab13058",
        "outputId": "d1753fd5-da00-46c6-a6ce-dfb7c7aa5611"
      },
      "outputs": [
        {
          "output_type": "stream",
          "name": "stdout",
          "text": [
            "Correlation Coefficient: 0.8649396835312032\n"
          ]
        }
      ],
      "source": [
        "import numpy as np\n",
        "\n",
        "x = np.random.normal(0, 1, 100)\n",
        "y = 2 * x + np.random.normal(0, 1, 100)\n",
        "\n",
        "corr_coef = np.corrcoef(x, y)[0, 1]\n",
        "print(\"Correlation Coefficient:\", corr_coef)"
      ]
    },
    {
      "cell_type": "markdown",
      "id": "639096a2",
      "metadata": {
        "id": "639096a2"
      },
      "source": [
        "## XI. Scatter Plot"
      ]
    },
    {
      "cell_type": "code",
      "execution_count": 11,
      "id": "d1036162",
      "metadata": {
        "colab": {
          "base_uri": "https://localhost:8080/",
          "height": 472
        },
        "id": "d1036162",
        "outputId": "69647c9c-c029-42f9-d82e-88eb79db41d4"
      },
      "outputs": [
        {
          "output_type": "display_data",
          "data": {
            "text/plain": [
              "<Figure size 640x480 with 1 Axes>"
            ],
            "image/png": "[encoded data removed]"
          },
          "metadata": {}
        }
      ],
      "source": [
        "import numpy as np\n",
        "import matplotlib.pyplot as plt\n",
        "\n",
        "x = np.random.normal(0, 1, 100)\n",
        "y = 2 * x + np.random.normal(0, 1, 100)\n",
        "\n",
        "plt.scatter(x, y)\n",
        "plt.title(\"Scatter Plot of Variables\")\n",
        "plt.xlabel(\"X\")\n",
        "plt.ylabel(\"Y\")\n",
        "plt.show()"
      ]
    },
    {
      "cell_type": "markdown",
      "id": "3a6444e1",
      "metadata": {
        "id": "3a6444e1"
      },
      "source": [
        "## XII. Random vs Systematic Sampling"
      ]
    },
    {
      "cell_type": "code",
      "execution_count": 12,
      "id": "f1246a81",
      "metadata": {
        "colab": {
          "base_uri": "https://localhost:8080/"
        },
        "id": "f1246a81",
        "outputId": "726e59db-ccd7-477f-a9ae-a008988770a3"
      },
      "outputs": [
        {
          "output_type": "stream",
          "name": "stdout",
          "text": [
            "Simple Random Sample: [89  8 12 17  5 14 19 52 65  7]\n",
            "Systematic Sample: [ 1 11 21 31 41 51 61 71 81 91]\n"
          ]
        }
      ],
      "source": [
        "import numpy as np\n",
        "\n",
        "population = np.arange(1, 101)\n",
        "\n",
        "# Simple random sample of 10\n",
        "srs = np.random.choice(population, size=10, replace=False)\n",
        "print(\"Simple Random Sample:\", srs)\n",
        "\n",
        "# Systematic sample: every k-th element\n",
        "k = len(population) // 10\n",
        "systematic = population[::k][:10]\n",
        "print(\"Systematic Sample:\", systematic)"
      ]
    },
    {
      "cell_type": "markdown",
      "id": "6da7fe07",
      "metadata": {
        "id": "6da7fe07"
      },
      "source": [
        "## XIII. Grouped Data Mean, Median, Mode"
      ]
    },
    {
      "cell_type": "code",
      "execution_count": 13,
      "id": "e6e0a04b",
      "metadata": {
        "colab": {
          "base_uri": "https://localhost:8080/"
        },
        "id": "e6e0a04b",
        "outputId": "12323bb7-8303-4225-8f2e-6c01fa1269da"
      },
      "outputs": [
        {
          "output_type": "stream",
          "name": "stdout",
          "text": [
            "Grouped Mean: 16.5\n",
            "Grouped Median: 15.555555555555555\n",
            "Grouped Mode: 14.444444444444445\n"
          ]
        }
      ],
      "source": [
        "import pandas as pd\n",
        "\n",
        "groups = pd.IntervalIndex.from_tuples([(0, 10), (10, 20), (20, 30), (30, 40)])\n",
        "freq = [5, 9, 4, 2]\n",
        "\n",
        "df = pd.DataFrame({'Class': groups, 'Frequency': freq})\n",
        "df['Midpoint'] = df['Class'].apply(lambda x: (x.left + x.right) / 2)\n",
        "\n",
        "mean_grouped = (df['Midpoint'] * df['Frequency']).sum() / df['Frequency'].sum()\n",
        "\n",
        "cum_freq = df['Frequency'].cumsum()\n",
        "N = df['Frequency'].sum()\n",
        "median_class_idx = cum_freq.searchsorted(N / 2)\n",
        "l = df.loc[median_class_idx, 'Class'].left\n",
        "cf_prev = cum_freq.iloc[median_class_idx - 1] if median_class_idx > 0 else 0\n",
        "f = df.loc[median_class_idx, 'Frequency']\n",
        "h = df.loc[median_class_idx, 'Class'].right - df.loc[median_class_idx, 'Class'].left\n",
        "median_grouped = l + ((N / 2 - cf_prev) / f) * h\n",
        "\n",
        "mode_idx = df['Frequency'].idxmax()\n",
        "l0 = df.loc[mode_idx, 'Class'].left\n",
        "f0 = df.loc[mode_idx, 'Frequency']\n",
        "f_1 = df.loc[mode_idx - 1, 'Frequency'] if mode_idx > 0 else 0\n",
        "f1 = df.loc[mode_idx + 1, 'Frequency'] if mode_idx < len(df) - 1 else 0\n",
        "mode_grouped = l0 + ((f0 - f_1) / ((f0 - f_1) + (f0 - f1))) * h\n",
        "\n",
        "print(\"Grouped Mean:\", mean_grouped)\n",
        "print(\"Grouped Median:\", median_grouped)\n",
        "print(\"Grouped Mode:\", mode_grouped)"
      ]
    },
    {
      "cell_type": "markdown",
      "id": "84541756",
      "metadata": {
        "id": "84541756"
      },
      "source": [
        "## XIV. Simulate Data & Dispersion"
      ]
    },
    {
      "cell_type": "code",
      "execution_count": 14,
      "id": "5e8251e7",
      "metadata": {
        "colab": {
          "base_uri": "https://localhost:8080/"
        },
        "id": "5e8251e7",
        "outputId": "746facb3-561a-4c36-de84-2e90f398e3f7"
      },
      "outputs": [
        {
          "output_type": "stream",
          "name": "stdout",
          "text": [
            "Mean: 51.55163336097329\n",
            "Median: 51.42566053925996\n",
            "Variance: 100.79316764862331\n",
            "Standard Deviation: 10.039580053399808\n"
          ]
        }
      ],
      "source": [
        "import numpy as np\n",
        "\n",
        "data = np.random.normal(loc=50, scale=10, size=100)\n",
        "\n",
        "mean = np.mean(data)\n",
        "median = np.median(data)\n",
        "std_dev = np.std(data, ddof=1)\n",
        "var = np.var(data, ddof=1)\n",
        "\n",
        "print(\"Mean:\", mean)\n",
        "print(\"Median:\", median)\n",
        "print(\"Variance:\", var)\n",
        "print(\"Standard Deviation:\", std_dev)"
      ]
    },
    {
      "cell_type": "markdown",
      "id": "0319fd13",
      "metadata": {
        "id": "0319fd13"
      },
      "source": [
        "## XV. Descriptive Statistics with pandas"
      ]
    },
    {
      "cell_type": "code",
      "execution_count": 15,
      "id": "a0d2fd6f",
      "metadata": {
        "colab": {
          "base_uri": "https://localhost:8080/"
        },
        "id": "a0d2fd6f",
        "outputId": "9b5fcf91-01a5-4d58-b68b-00a37cfa0c59"
      },
      "outputs": [
        {
          "output_type": "stream",
          "name": "stdout",
          "text": [
            "                A           B\n",
            "count  100.000000  100.000000\n",
            "mean    -0.019589    5.161524\n",
            "std      1.044119    1.999416\n",
            "min     -3.007437    0.672669\n",
            "25%     -0.558000    3.879861\n",
            "50%     -0.038290    5.124914\n",
            "75%      0.682174    6.576392\n",
            "max      2.925250   10.269206\n"
          ]
        }
      ],
      "source": [
        "import pandas as pd\n",
        "import numpy as np\n",
        "\n",
        "df = pd.DataFrame({\n",
        "    'A': np.random.normal(0, 1, 100),\n",
        "    'B': np.random.normal(5, 2, 100)\n",
        "})\n",
        "\n",
        "print(df.describe())"
      ]
    },
    {
      "cell_type": "markdown",
      "id": "d3729ae6",
      "metadata": {
        "id": "d3729ae6"
      },
      "source": [
        "## XVI. Boxplot & Outliers"
      ]
    },
    {
      "cell_type": "code",
      "execution_count": 16,
      "id": "b3381249",
      "metadata": {
        "colab": {
          "base_uri": "https://localhost:8080/",
          "height": 452
        },
        "id": "b3381249",
        "outputId": "89d01ef6-347d-4902-d3e5-e4431f33dd5b"
      },
      "outputs": [
        {
          "output_type": "display_data",
          "data": {
            "text/plain": [
              "<Figure size 640x480 with 1 Axes>"
            ],
            "image/png": "[encoded data removed]"
          },
          "metadata": {}
        }
      ],
      "source": [
        "import numpy as np\n",
        "import matplotlib.pyplot as plt\n",
        "\n",
        "data = np.random.normal(0, 1, 100)\n",
        "\n",
        "plt.boxplot(data)\n",
        "plt.title(\"Boxplot\")\n",
        "plt.show()"
      ]
    },
    {
      "cell_type": "markdown",
      "id": "7a501bf3",
      "metadata": {
        "id": "7a501bf3"
      },
      "source": [
        "## XVII. Interquartile Range (IQR)"
      ]
    },
    {
      "cell_type": "code",
      "execution_count": 17,
      "id": "d991c050",
      "metadata": {
        "colab": {
          "base_uri": "https://localhost:8080/"
        },
        "id": "d991c050",
        "outputId": "afdbd3b5-beca-4d9e-b5f6-7b92e988fd41"
      },
      "outputs": [
        {
          "output_type": "stream",
          "name": "stdout",
          "text": [
            "IQR: 1.4702246474365133\n"
          ]
        }
      ],
      "source": [
        "import numpy as np\n",
        "\n",
        "data = np.random.normal(0, 1, 100)\n",
        "q75, q25 = np.percentile(data, [75, 25])\n",
        "iqr = q75 - q25\n",
        "print(\"IQR:\", iqr)"
      ]
    },
    {
      "cell_type": "markdown",
      "id": "03e9bd32",
      "metadata": {
        "id": "03e9bd32"
      },
      "source": [
        "## XVIII. Z‑score Normalization"
      ]
    },
    {
      "cell_type": "code",
      "execution_count": 18,
      "id": "431ecf96",
      "metadata": {
        "colab": {
          "base_uri": "https://localhost:8080/"
        },
        "id": "431ecf96",
        "outputId": "e05bc2e1-8720-42fb-9e1c-fa880f04072c"
      },
      "outputs": [
        {
          "output_type": "stream",
          "name": "stdout",
          "text": [
            "Original: [10 12 13 15 18 20]\n",
            "Z‑score Normalized: [-1.35343108 -0.77338919 -0.48336824  0.09667365  0.96673649  1.54677838]\n"
          ]
        }
      ],
      "source": [
        "import numpy as np\n",
        "\n",
        "data = np.array([10, 12, 13, 15, 18, 20])\n",
        "\n",
        "mean = data.mean()\n",
        "std = data.std(ddof=0)\n",
        "\n",
        "z_scores = (data - mean) / std\n",
        "\n",
        "print(\"Original:\", data)\n",
        "print(\"Z‑score Normalized:\", z_scores)"
      ]
    },
    {
      "cell_type": "markdown",
      "id": "87a8e788",
      "metadata": {
        "id": "87a8e788"
      },
      "source": [
        "## XIX. Compare Datasets by Std Dev"
      ]
    },
    {
      "cell_type": "code",
      "execution_count": 19,
      "id": "1d4ec13b",
      "metadata": {
        "colab": {
          "base_uri": "https://localhost:8080/"
        },
        "id": "1d4ec13b",
        "outputId": "642bb993-8ebb-4c94-c4f3-dfb1bf3462db"
      },
      "outputs": [
        {
          "output_type": "stream",
          "name": "stdout",
          "text": [
            "Std Dev Dataset 1: 0.956146250982648\n",
            "Std Dev Dataset 2: 3.040571049993544\n"
          ]
        }
      ],
      "source": [
        "import numpy as np\n",
        "\n",
        "data1 = np.random.normal(0, 1, 100)\n",
        "data2 = np.random.normal(0, 3, 100)\n",
        "\n",
        "std1 = np.std(data1, ddof=1)\n",
        "std2 = np.std(data2, ddof=1)\n",
        "\n",
        "print(\"Std Dev Dataset 1:\", std1)\n",
        "print(\"Std Dev Dataset 2:\", std2)"
      ]
    },
    {
      "cell_type": "markdown",
      "id": "bea79cdb",
      "metadata": {
        "id": "bea79cdb"
      },
      "source": [
        "## XX. Covariance Heatmap"
      ]
    },
    {
      "cell_type": "code",
      "execution_count": 20,
      "id": "70754c51",
      "metadata": {
        "colab": {
          "base_uri": "https://localhost:8080/",
          "height": 452
        },
        "id": "70754c51",
        "outputId": "526849cf-a148-4db0-f551-f11cc16e2824"
      },
      "outputs": [
        {
          "output_type": "display_data",
          "data": {
            "text/plain": [
              "<Figure size 640x480 with 2 Axes>"
            ],
            "image/png": "[encoded data removed]"
          },
          "metadata": {}
        }
      ],
      "source": [
        "import pandas as pd\n",
        "import numpy as np\n",
        "import seaborn as sns\n",
        "import matplotlib.pyplot as plt\n",
        "\n",
        "df = pd.DataFrame({\n",
        "    'x': np.random.normal(0, 1, 100),\n",
        "    'y': np.random.normal(5, 2, 100),\n",
        "    'z': np.random.normal(-2, 1, 100)\n",
        "})\n",
        "\n",
        "cov = df.cov()\n",
        "\n",
        "sns.heatmap(cov, annot=True)\n",
        "plt.title(\"Covariance Heatmap\")\n",
        "plt.show()"
      ]
    },
    {
      "cell_type": "markdown",
      "id": "5b6ce084",
      "metadata": {
        "id": "5b6ce084"
      },
      "source": [
        "## XXI. Correlation Matrix with seaborn"
      ]
    },
    {
      "cell_type": "code",
      "execution_count": 21,
      "id": "d31499f3",
      "metadata": {
        "colab": {
          "base_uri": "https://localhost:8080/",
          "height": 452
        },
        "id": "d31499f3",
        "outputId": "797a4057-98fc-4178-bef2-b8383b035470"
      },
      "outputs": [
        {
          "output_type": "display_data",
          "data": {
            "text/plain": [
              "<Figure size 640x480 with 2 Axes>"
            ],
            "image/png": "[encoded data removed]"
          },
          "metadata": {}
        }
      ],
      "source": [
        "import pandas as pd\n",
        "import numpy as np\n",
        "import seaborn as sns\n",
        "import matplotlib.pyplot as plt\n",
        "\n",
        "df = pd.DataFrame({\n",
        "    'x': np.random.normal(0, 1, 100),\n",
        "    'y': np.random.normal(5, 2, 100),\n",
        "    'z': np.random.normal(-2, 1, 100)\n",
        "})\n",
        "\n",
        "corr = df.corr()\n",
        "\n",
        "sns.heatmap(corr, annot=True)\n",
        "plt.title(\"Correlation Matrix\")\n",
        "plt.show()"
      ]
    },
    {
      "cell_type": "markdown",
      "id": "853b78b8",
      "metadata": {
        "id": "853b78b8"
      },
      "source": [
        "## XXII. Variance & Std Dev Again"
      ]
    },
    {
      "cell_type": "code",
      "execution_count": 22,
      "id": "a5548678",
      "metadata": {
        "colab": {
          "base_uri": "https://localhost:8080/"
        },
        "id": "a5548678",
        "outputId": "0b441a84-65a4-4d20-8e38-6b37ffa19fc9"
      },
      "outputs": [
        {
          "output_type": "stream",
          "name": "stdout",
          "text": [
            "Data: [71 79 89 88 38 29  3 85 57 80 30 80  9 19 96 73 60 95 48 81  6 45 87 37\n",
            " 47 14 16 73 32 90 46 22 81 35 10 10 94 31 11 36 57 47 95 28 54 69 82 58\n",
            " 46 11]\n",
            "Variance: 856.0408163265306\n",
            "Standard Deviation: 29.25817520500092\n"
          ]
        }
      ],
      "source": [
        "import numpy as np\n",
        "\n",
        "data = np.random.randint(1, 100, 50)\n",
        "\n",
        "variance = np.var(data, ddof=1)\n",
        "std_dev = np.std(data, ddof=1)\n",
        "\n",
        "print(\"Data:\", data)\n",
        "print(\"Variance:\", variance)\n",
        "print(\"Standard Deviation:\", std_dev)"
      ]
    },
    {
      "cell_type": "markdown",
      "id": "2c0988f5",
      "metadata": {
        "id": "2c0988f5"
      },
      "source": [
        "## XXIII. Visualize Skewness & Kurtosis"
      ]
    },
    {
      "cell_type": "code",
      "execution_count": 23,
      "id": "e2204c03",
      "metadata": {
        "colab": {
          "base_uri": "https://localhost:8080/",
          "height": 488
        },
        "id": "e2204c03",
        "outputId": "c6590d99-1d9e-4ce6-ac6a-7026578f5a97"
      },
      "outputs": [
        {
          "output_type": "display_data",
          "data": {
            "text/plain": [
              "<Figure size 640x480 with 1 Axes>"
            ],
            "image/png": "[encoded data removed]"
          },
          "metadata": {}
        },
        {
          "output_type": "stream",
          "name": "stdout",
          "text": [
            "Skewness: 1.6387818461342734\n",
            "Kurtosis: 4.094574762418862\n"
          ]
        }
      ],
      "source": [
        "import numpy as np\n",
        "from scipy.stats import skew, kurtosis\n",
        "import matplotlib.pyplot as plt\n",
        "\n",
        "data = np.random.chisquare(df=3, size=1000)\n",
        "\n",
        "plt.hist(data, bins=30)\n",
        "plt.title(\"Histogram\")\n",
        "plt.show()\n",
        "\n",
        "print(\"Skewness:\", skew(data))\n",
        "print(\"Kurtosis:\", kurtosis(data))"
      ]
    },
    {
      "cell_type": "markdown",
      "id": "7cccabc6",
      "metadata": {
        "id": "7cccabc6"
      },
      "source": [
        "## XXIV. Pearson & Spearman Correlation"
      ]
    },
    {
      "cell_type": "code",
      "execution_count": 24,
      "id": "50b53abd",
      "metadata": {
        "colab": {
          "base_uri": "https://localhost:8080/"
        },
        "id": "50b53abd",
        "outputId": "4df44b7d-3d84-4ec1-acdf-c51f3ef6af29"
      },
      "outputs": [
        {
          "output_type": "stream",
          "name": "stdout",
          "text": [
            "Pearson correlation: 0.680048982327022 p‑value: 7.20499268340667e-15\n",
            "Spearman correlation: 0.6764956495649564 p‑value: 1.1214857614794908e-14\n"
          ]
        }
      ],
      "source": [
        "import numpy as np\n",
        "from scipy.stats import pearsonr, spearmanr\n",
        "\n",
        "x = np.random.normal(0, 1, 100)\n",
        "y = np.random.normal(0, 1, 100) * 0.5 + x * 0.5\n",
        "\n",
        "pearson_corr, p_val_p = pearsonr(x, y)\n",
        "spearman_corr, p_val_s = spearmanr(x, y)\n",
        "\n",
        "print(\"Pearson correlation:\", pearson_corr, \"p‑value:\", p_val_p)\n",
        "print(\"Spearman correlation:\", spearman_corr, \"p‑value:\", p_val_s)"
      ]
    },
    {
      "cell_type": "code",
      "source": [],
      "metadata": {
        "id": "TbBUs685g-BQ"
      },
      "id": "TbBUs685g-BQ",
      "execution_count": null,
      "outputs": []
    }
  ],
  "metadata": {
    "colab": {
      "provenance": []
    },
    "language_info": {
      "name": "python"
    },
    "kernelspec": {
      "name": "python3",
      "display_name": "Python 3"
    }
  },
  "nbformat": 4,
  "nbformat_minor": 5
}